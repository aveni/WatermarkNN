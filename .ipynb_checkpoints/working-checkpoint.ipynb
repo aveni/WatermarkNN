{
 "cells": [
  {
   "cell_type": "code",
   "execution_count": 7,
   "metadata": {},
   "outputs": [],
   "source": [
    "from __future__ import print_function\n",
    "\n",
    "import argparse\n",
    "import os\n",
    "import time\n",
    "\n",
    "import numpy as np\n",
    "import torch\n",
    "import torch.backends.cudnn as cudnn\n",
    "import torch.nn as nn\n",
    "import torch.optim as optim\n",
    "\n",
    "\n"
   ]
  },
  {
   "cell_type": "code",
   "execution_count": 24,
   "metadata": {},
   "outputs": [
    {
     "data": {
      "text/plain": [
       "tensor([5, 0, 4,  ..., 5, 6, 8])"
      ]
     },
     "execution_count": 24,
     "metadata": {},
     "output_type": "execute_result"
    }
   ],
   "source": [
    "import torchvision\n",
    "trainset = torchvision.datasets.MNIST(root='./data',\n",
    "                                        train=True, download=True)\n",
    "\n",
    "trainset.train_labels"
   ]
  },
  {
   "cell_type": "code",
   "execution_count": 4,
   "metadata": {},
   "outputs": [
    {
     "data": {
      "image/png": "[encoded data removed]",
      "text/plain": [
       "<Figure size 432x288 with 1 Axes>"
      ]
     },
     "metadata": {
      "needs_background": "light"
     },
     "output_type": "display_data"
    }
   ],
   "source": [
    "import matplotlib.pyplot as plt\n",
    "import numpy as np\n",
    "from scipy.stats import binom\n",
    "\n",
    "\n",
    "rv = binom(100,0.1)\n",
    "xrange = np.arange(0,50,1)\n",
    "\n",
    "plt.stem(x, [rv.pmf(x) for x in xrange])\n",
    "plt.show()"
   ]
  },
  {
   "cell_type": "code",
   "execution_count": 3,
   "metadata": {},
   "outputs": [],
   "source": [
    "device = 'cuda' if torch.cuda.is_available() else 'cpu'\n",
    "start_epoch = 0  # start from epoch 0 or last checkpoint epoch\n",
    "batch_size = 100\n",
    "resume = False\n",
    "parent_path = './checkpoint.parent.t7'\n",
    "load_path = './checkpoint/child.t7'\n",
    "save_dir = './checkpoint'\n",
    "save_model = 'child.t7'\n",
    "lr = 0.1\n",
    "lradj = 20\n",
    "max_epochs = 60"
   ]
  },
  {
   "cell_type": "code",
   "execution_count": null,
   "metadata": {},
   "outputs": [],
   "source": [
    "# LOG_DIR = './log'\n",
    "# if not os.path.isdir(LOG_DIR):\n",
    "#     os.mkdir(LOG_DIR)\n",
    "# logfile = os.path.join(LOG_DIR, 'log_' + str(args.runname) + '.txt')\n",
    "# confgfile = os.path.join(LOG_DIR, 'conf_' + str(args.runname) + '.txt')\n",
    "\n",
    "# # save configuration parameters\n",
    "# with open(confgfile, 'w') as f:\n",
    "#     for arg in vars(args):\n",
    "#         f.write('{}: {}\\n'.format(arg, getattr(args, arg)))\n",
    "\n",
    "trainloader, testloader, n_classes = getdataloader(\n",
    "    'cifar10', './data', './data', batch_size)\n",
    "\n",
    "# create the model\n",
    "if resume:\n",
    "    # Load checkpoint.\n",
    "    print('==> Resuming from checkpoint..')\n",
    "    assert os.path.exists(load_path), 'Error: no checkpoint found!'\n",
    "    checkpoint = torch.load(load_path)\n",
    "    net = checkpoint['net']\n",
    "    acc = checkpoint['acc']\n",
    "    start_epoch = checkpoint['epoch']\n",
    "else:\n",
    "    print('==> Building model..')\n",
    "    net = ResNet18(num_classes=n_classes)\n",
    "\n",
    "# Load parent\n",
    "assert os.path.exists(parent_path), 'Error: no parent checkpoint found!'\n",
    "parent_checkpoint = torch.load(parent_path)\n",
    "parent = parent_checkpoint['net']\n",
    "\n",
    "parent = parent.to(device)\n",
    "net = net.to(device)\n",
    "# support cuda\n",
    "if device == 'cuda':\n",
    "    print('Using CUDA')\n",
    "    print('Parallel training on {0} GPUs.'.format(torch.cuda.device_count()))\n",
    "    net = torch.nn.DataParallel(net, device_ids=range(torch.cuda.device_count()))\n",
    "    parent = torch.nn.DataParellel(parent, device_ids=range(torch.cuda.device_count()))\n",
    "    cudnn.benchmark = True\n"
   ]
  },
  {
   "cell_type": "code",
   "execution_count": null,
   "metadata": {},
   "outputs": [],
   "source": [
    "criterion = nn.CrossEntropyLoss()\n",
    "optimizer = optim.SGD(net.parameters(), lr=lr, momentum=0.9, weight_decay=5e-4)\n",
    "\n",
    "# # loading wm examples\n",
    "# if args.wmtrain:\n",
    "#     print(\"WM acc:\")\n",
    "#     test(net, criterion, logfile, wmloader, device)\n",
    "\n",
    "# start training\n",
    "for epoch in range(start_epoch, start_epoch + max_epochs):\n",
    "    # adjust learning rate\n",
    "    adjust_learning_rate(lr, optimizer, epoch, lradj)\n",
    "\n",
    "    train(epoch, net, criterion, optimizer, logfile,\n",
    "          trainloader, device, wmloader)\n",
    "\n",
    "    print(\"Test acc:\")\n",
    "    acc = test(net, criterion, logfile, testloader, device)\n",
    "\n",
    "#     if args.wmtrain:\n",
    "#         print(\"WM acc:\")\n",
    "#         test(net, criterion, logfile, wmloader, device)\n",
    "\n",
    "    print('Saving..')\n",
    "    state = {\n",
    "        'net': net.module if device is 'cuda' else net,\n",
    "        'acc': acc,\n",
    "        'epoch': epoch,\n",
    "    }\n",
    "    if not os.path.isdir(save_dir):\n",
    "        os.mkdir(save_dir)\n",
    "    torch.save(state, os.path.join(save_dir, save_model))"
   ]
  }
 ],
 "metadata": {
  "kernelspec": {
   "display_name": "Python 3",
   "language": "python",
   "name": "python3"
  },
  "language_info": {
   "codemirror_mode": {
    "name": "ipython",
    "version": 3
   },
   "file_extension": ".py",
   "mimetype": "text/x-python",
   "name": "python",
   "nbconvert_exporter": "python",
   "pygments_lexer": "ipython3",
   "version": "3.6.6"
  }
 },
 "nbformat": 4,
 "nbformat_minor": 2
}
